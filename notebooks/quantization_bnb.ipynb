{
 "cells": [
  {
   "cell_type": "markdown",
   "id": "e2db72f9",
   "metadata": {},
   "source": [
    "# A 4 bit quantization transform for Thunder\n",
    "\n",
    "\n",
    "In this notebook, we will implement a seamless 4 bit quantization transform for thunder.\n",
    "We will use `bitsandbytes`for the 4 bit quantization and kernel.\n",
    "\n",
    "First let's import."
   ]
  },
  {
   "cell_type": "code",
   "execution_count": 1,
   "id": "d3b8246e",
   "metadata": {},
   "outputs": [],
   "source": [
    "import bitsandbytes\n",
    "import thunder\n",
    "import torch"
   ]
  },
  {
   "cell_type": "markdown",
   "id": "6f32b2b9",
   "metadata": {},
   "source": [
    "To have something concrete to work with, let's take [LitGPT](https://github.com/Lightning-AI/litgpt)'s quantized generation:"
   ]
  },
  {
   "cell_type": "code",
   "execution_count": 2,
   "id": "ca09a898",
   "metadata": {},
   "outputs": [],
   "source": [
    "from lightning import fabric\n",
    "from lightning.fabric.plugins import BitsandbytesPrecision\n"
   ]
  },
  {
   "cell_type": "code",
   "execution_count": null,
   "id": "990663a0",
   "metadata": {},
   "outputs": [],
   "source": []
  },
  {
   "cell_type": "code",
   "execution_count": null,
   "id": "61515bf7",
   "metadata": {},
   "outputs": [],
   "source": []
  },
  {
   "cell_type": "code",
   "execution_count": 3,
   "id": "b1e08170",
   "metadata": {},
   "outputs": [
    {
     "name": "stderr",
     "output_type": "stream",
     "text": [
      "Loading model '/home/tv/data/firma/grid/thunder/litgpt/checkpoints/meta-llama/Meta-Llama-3-8B-Instruct/lit_model.pth' with {'name': 'Llama-3-8B-Instruct', 'hf_config': {'name': 'Meta-Llama-3-8B-Instruct', 'org': 'meta-llama'}, 'scale_embeddings': False, 'block_size': 8192, 'vocab_size': 128000, 'padding_multiple': 512, 'padded_vocab_size': 128256, 'n_layer': 32, 'n_head': 32, 'head_size': 128, 'n_embd': 4096, 'rotary_percentage': 1.0, 'parallel_residual': False, 'bias': False, 'lm_head_bias': False, 'n_query_groups': 8, 'shared_attention_norm': False, 'norm_class_name': 'RMSNorm', 'norm_eps': 1e-05, 'mlp_class_name': 'LLaMAMLP', 'gelu_approximate': 'none', 'intermediate_size': 14336, 'rope_condense_ratio': 1, 'rope_base': 500000, 'n_expert': 0, 'n_expert_per_token': 0, 'rope_n_elem': 128}\n",
      "Time to instantiate model: 0.22 seconds.\n",
      "You are using a CUDA device ('NVIDIA GeForce RTX 3090') that has Tensor Cores. To properly utilize them, you should set `torch.set_float32_matmul_precision('medium' | 'high')` which will trade-off precision for performance. For more details, read https://pytorch.org/docs/stable/generated/torch.set_float32_matmul_precision.html#torch.set_float32_matmul_precision\n",
      "Time to load the model weights: 5.00 seconds.\n",
      "Seed set to 1234\n"
     ]
    },
    {
     "name": "stdout",
     "output_type": "stream",
     "text": [
      "system\n",
      "\n",
      "You are a helpful assistant.\n",
      "user\n",
      "\n",
      "What food do llamas eat? Answer in German.\n",
      "assistant\n",
      "\n",
      "Die Lamas fressen Gräser und Pflanzen, insbesondere Gras, Blätter, Triebe und Blumen. Sie sind Omnivoren und können auch Obst und Getreide konsumieren, wenn es ihnen zur Verfügung steht.\n"
     ]
    },
    {
     "name": "stderr",
     "output_type": "stream",
     "text": [
      "Time for inference 1: 1.49 sec total, 37.47 tokens/sec\n",
      "Memory used: 7.57 GB\n"
     ]
    }
   ],
   "source": [
    "# Copyright Lightning AI. Licensed under the Apache License 2.0, see LICENSE file.\n",
    "\n",
    "import sys\n",
    "import time\n",
    "from pathlib import Path\n",
    "from typing import Any, Literal, Optional\n",
    "\n",
    "import lightning as L\n",
    "import torch\n",
    "import torch._dynamo.config\n",
    "import torch._inductor.config\n",
    "from lightning.fabric.plugins import BitsandbytesPrecision\n",
    "\n",
    "from litgpt import GPT, Config, PromptStyle, Tokenizer\n",
    "from litgpt.prompts import has_prompt_style, load_prompt_style\n",
    "from litgpt.utils import CLI, check_valid_checkpoint_dir, get_default_supported_precision, load_checkpoint\n",
    "\n",
    "\n",
    "\n",
    "def multinomial_num_samples_1(probs: torch.Tensor) -> torch.Tensor:\n",
    "    if torch._dynamo.is_compiling():\n",
    "        # Faster alternative to `torch.multinomial(probs, num_samples=1)` that is also CUDAGraph friendly\n",
    "        distribution = torch.empty_like(probs).exponential_(1)\n",
    "        return torch.argmax(probs / distribution, dim=-1, keepdim=True)\n",
    "    return torch.multinomial(probs, num_samples=1)\n",
    "\n",
    "\n",
    "def sample_top_p(logits: torch.Tensor, top_p: float) -> torch.Tensor:\n",
    "    sorted_logits, sorted_indices = torch.sort(logits, descending=False)\n",
    "    cumulative_probs = sorted_logits.softmax(dim=-1).cumsum(dim=-1)\n",
    "    # Example:\n",
    "    # sorted_probs=[0.1, 0.15, 0.2, 0.25, 0.3] -> sorted_cumprobs=[0.1, 0.25, 0.45, 0.7, 1.0]\n",
    "    # sorted_indices_to_remove = [1, 1, 0, 0, 0] if top_p=0.7\n",
    "    sorted_indices_to_remove = cumulative_probs <= (1 - top_p)\n",
    "    # Keep at least 1 token always to prevent the case where no token is selected\n",
    "    # In this case the most probable one is always kept\n",
    "    sorted_indices_to_remove[-1:] = 0\n",
    "    indices_to_remove = sorted_indices_to_remove.scatter(0, sorted_indices, sorted_indices_to_remove)\n",
    "    logits = logits.masked_fill(indices_to_remove, float(\"-inf\"))\n",
    "    return logits\n",
    "\n",
    "\n",
    "def sample(\n",
    "    logits: torch.Tensor, temperature: float = 1.0, top_k: Optional[int] = None, top_p: float = 1.0\n",
    ") -> torch.Tensor:\n",
    "    if top_p < 0.0 or top_p > 1.0:\n",
    "        raise ValueError(f\"top_p must be in [0, 1], got {top_p}\")\n",
    "    logits = logits[0, -1]\n",
    "    # optionally crop the logits to only the top k options\n",
    "    if top_k is not None:\n",
    "        v, i = torch.topk(logits, min(top_k, logits.size(-1)))\n",
    "        # do not use `torch.where` as in nanogpt because it will repeat top-k collisions\n",
    "        logits = torch.full_like(logits, float(\"-inf\")).scatter_(-1, i, v)\n",
    "    # optionally scale the logits and sample from a probability distribution\n",
    "    if temperature > 0.0 or top_p > 0.0:\n",
    "        if temperature > 0.0:\n",
    "            logits = logits / temperature\n",
    "        # optionally crop the logits to smallest set of logits with a cumulative probability above top_p\n",
    "        if top_p < 1.0:\n",
    "            logits = sample_top_p(logits, top_p)\n",
    "        probs = torch.nn.functional.softmax(logits, dim=-1)\n",
    "        return multinomial_num_samples_1(probs)\n",
    "    return torch.argmax(logits, dim=-1, keepdim=True)\n",
    "\n",
    "\n",
    "def next_token(model: GPT, input_pos: torch.Tensor, x: torch.Tensor, **kwargs: Any) -> torch.Tensor:\n",
    "    logits = model(x, input_pos)\n",
    "    next = sample(logits, **kwargs)\n",
    "    return next.to(dtype=x.dtype)\n",
    "\n",
    "\n",
    "@torch.inference_mode()\n",
    "def generate(\n",
    "    model: GPT,\n",
    "    prompt: torch.Tensor,\n",
    "    max_returned_tokens: int,\n",
    "    *,\n",
    "    temperature: float = 1.0,\n",
    "    top_k: Optional[int] = None,\n",
    "    top_p: float = 1.0,\n",
    "    eos_id: Optional[int] = None,\n",
    ") -> torch.Tensor:\n",
    "    \"\"\"Takes a conditioning sequence (prompt) as input and continues to generate as many tokens as requested.\n",
    "\n",
    "    The implementation of this function is modified from A. Karpathy's nanoGPT.\n",
    "\n",
    "    Args:\n",
    "        model: The model to use.\n",
    "        prompt: Tensor of shape (T) with indices of the prompt sequence.\n",
    "        max_returned_tokens: The maximum number of tokens to return (given plus generated).\n",
    "        temperature: Scales the predicted logits by 1 / temperature.\n",
    "        top_k: If specified, only sample among the tokens with the k highest probabilities.\n",
    "        top_p: If specified, it represents the cumulative probability threshold to consider in the sampling process.\n",
    "            In top-p sampling, the next token is sampled from the highest probability tokens\n",
    "            whose cumulative probability exceeds the threshold `top_p`. When specified,\n",
    "            it must be `0 <= top_p <= 1`. Here, `top_p=0` is equivalent\n",
    "            to sampling the most probable token, while `top_p=1` samples from the whole distribution.\n",
    "            It can be used in conjunction with `top_k` and `temperature` with the following order\n",
    "            of application:\n",
    "\n",
    "            1. `top_k` sampling\n",
    "            2. `temperature` scaling\n",
    "            3. `top_p` sampling\n",
    "\n",
    "            For more details, see https://arxiv.org/abs/1904.09751\n",
    "            or https://huyenchip.com/2024/01/16/sampling.html#top_p\n",
    "        eos_id: If specified, stop generating any more token once the <eos> token is triggered.\n",
    "    \"\"\"\n",
    "    T = prompt.size(0)\n",
    "    assert max_returned_tokens > T\n",
    "    if model.max_seq_length < max_returned_tokens - 1:\n",
    "        # rolling the kv cache based on the `input_pos` value would be necessary. However, doing so would introduce a\n",
    "        # data dependency on the `input_pos` tensor and impact model compilation. Since this setting is uncommon, we do\n",
    "        # not support it to avoid negatively impacting the overall speed\n",
    "        raise NotImplementedError(f\"max_seq_length {model.max_seq_length} needs to be >= {max_returned_tokens - 1}\")\n",
    "\n",
    "    device = prompt.device\n",
    "    tokens = [prompt]\n",
    "    input_pos = torch.tensor([T], device=device)\n",
    "    token = next_token(\n",
    "        model, torch.arange(0, T, device=device), prompt.view(1, -1), temperature=temperature, top_k=top_k, top_p=top_p\n",
    "    ).clone()\n",
    "    tokens.append(token)\n",
    "    for _ in range(2, max_returned_tokens - T + 1):\n",
    "        token = next_token(\n",
    "            model, input_pos, token.view(1, -1), temperature=temperature, top_k=top_k, top_p=top_p\n",
    "        ).clone()\n",
    "        tokens.append(token)\n",
    "        if token == eos_id:\n",
    "            break\n",
    "        input_pos = input_pos.add_(1)\n",
    "    return torch.cat(tokens)\n",
    "\n",
    "\n",
    "with torch.inference_mode():\n",
    "    prompt: str = \"What food do llamas eat? Answer in German.\"\n",
    "    num_samples: int = 1\n",
    "    max_new_tokens: int = 256\n",
    "    top_k: Optional[int] = 50\n",
    "    top_p: float = 1.0\n",
    "    temperature: float = 0.8\n",
    "    checkpoint_dir: Path = Path(\"/home/tv/data/firma/grid/thunder/litgpt/checkpoints/meta-llama/Meta-Llama-3-8B-Instruct/\")\n",
    "    quantize: Optional[Literal[\"bnb.nf4\", \"bnb.nf4-dq\", \"bnb.fp4\", \"bnb.fp4-dq\", \"bnb.int8\"]] = \"bnb.nf4\"\n",
    "    precision: Optional[str] = \"bf16-true\"\n",
    "    compile: bool = False\n",
    "# litgpt generate base --quantize bnb.nf4 --checkpoint_dir checkpoints/tiiuae/falcon-7b --precision bf16-true --max_new_tokens 256\n",
    "\n",
    "    \"\"\"Generates text samples based on a pre-trained model and tokenizer.\n",
    "\n",
    "    Args:\n",
    "        prompt: The prompt string to use for generating the samples.\n",
    "        num_samples: The number of text samples to generate.\n",
    "        max_new_tokens: The number of generation steps to take.\n",
    "        top_k: The number of top most probable tokens to consider in the sampling process.\n",
    "        top_p: If specified, it represents the cumulative probability threshold to consider in the sampling process.\n",
    "            In top-p sampling, the next token is sampled from the highest probability tokens\n",
    "            whose cumulative probability exceeds the threshold `top_p`. When specified,\n",
    "            it must be `0 <= top_p <= 1`. Here, `top_p=0` is equivalent\n",
    "            to sampling the most probable token, while `top_p=1` samples from the whole distribution.\n",
    "            It can be used in conjunction with `top_k` and `temperature` with the following order\n",
    "            of application:\n",
    "\n",
    "            1. `top_k` sampling\n",
    "            2. `temperature` scaling\n",
    "            3. `top_p` sampling\n",
    "\n",
    "            For more details, see https://arxiv.org/abs/1904.09751\n",
    "            or https://huyenchip.com/2024/01/16/sampling.html#top_p\n",
    "        temperature: A value controlling the randomness of the sampling process. Higher values result in more random\n",
    "            samples.\n",
    "        checkpoint_dir: The checkpoint directory to load.\n",
    "        quantize: Whether to quantize the model and using which method:\n",
    "            - bnb.nf4, bnb.nf4-dq, bnb.fp4, bnb.fp4-dq: 4-bit quantization from bitsandbytes\n",
    "            - bnb.int8: 8-bit quantization from bitsandbytes\n",
    "            for more details, see https://github.com/Lightning-AI/litgpt/blob/main/tutorials/quantize.md\n",
    "        precision: Indicates the Fabric precision setting to use.\n",
    "        compile: Whether to compile the model.\n",
    "    \"\"\"\n",
    "    precision = precision or get_default_supported_precision(training=False)\n",
    "\n",
    "    plugins = BitsandbytesPrecision(mode='nf4', dtype=torch.bfloat16)\n",
    "    precision = None\n",
    "\n",
    "    fabric = L.Fabric(devices=1, precision=precision, plugins=plugins)\n",
    "\n",
    "    check_valid_checkpoint_dir(checkpoint_dir)\n",
    "    config = Config.from_file(checkpoint_dir / \"model_config.yaml\")\n",
    "\n",
    "    checkpoint_path = checkpoint_dir / \"lit_model.pth\"\n",
    "\n",
    "    tokenizer = Tokenizer(checkpoint_dir)\n",
    "    prompt_style = (\n",
    "        load_prompt_style(checkpoint_dir) if has_prompt_style(checkpoint_dir) else PromptStyle.from_config(config)\n",
    "    )\n",
    "\n",
    "    prompt = prompt_style.apply(prompt)\n",
    "    encoded = tokenizer.encode(prompt, device=fabric.device)\n",
    "    prompt_length = encoded.size(0)\n",
    "    max_returned_tokens = prompt_length + max_new_tokens\n",
    "\n",
    "    fabric.print(f\"Loading model {str(checkpoint_path)!r} with {config.__dict__}\", file=sys.stderr)\n",
    "    t0 = time.perf_counter()\n",
    "    with fabric.init_module(empty_init=True):\n",
    "        model = GPT(config)\n",
    "    fabric.print(f\"Time to instantiate model: {time.perf_counter() - t0:.02f} seconds.\", file=sys.stderr)\n",
    "    with fabric.init_tensor():\n",
    "        # set the max_seq_length to limit the memory usage to what we need\n",
    "        model.max_seq_length = max_returned_tokens\n",
    "        # enable the kv cache\n",
    "        model.set_kv_cache(batch_size=1)\n",
    "    model.eval()\n",
    "\n",
    "    if compile:\n",
    "        torch._dynamo.config.automatic_dynamic_shapes = True\n",
    "        torch._inductor.config.triton.unique_kernel_names = True\n",
    "        torch._inductor.config.coordinate_descent_tuning = True\n",
    "        global next_token\n",
    "        next_token = torch.compile(next_token, mode=\"reduce-overhead\")\n",
    "\n",
    "    model = fabric.setup_module(model)\n",
    "\n",
    "    t0 = time.perf_counter()\n",
    "    load_checkpoint(fabric, model, checkpoint_path)\n",
    "    fabric.print(f\"Time to load the model weights: {time.perf_counter() - t0:.02f} seconds.\", file=sys.stderr)\n",
    "\n",
    "    L.seed_everything(1234)\n",
    "    for i in range(num_samples):\n",
    "        t0 = time.perf_counter()\n",
    "        y = generate(model, encoded, max_returned_tokens, temperature=temperature, top_k=top_k, top_p=top_p, eos_id=tokenizer.eos_id)\n",
    "        t = time.perf_counter() - t0\n",
    "        for block in model.transformer.h:\n",
    "            block.attn.kv_cache.reset_parameters()\n",
    "        fabric.print(tokenizer.decode(y))\n",
    "        tokens_generated = y.size(0) - prompt_length\n",
    "        fabric.print(\n",
    "            f\"Time for inference {i + 1}: {t:.02f} sec total, {tokens_generated / t:.02f} tokens/sec\", file=sys.stderr\n",
    "        )\n",
    "    if fabric.device.type == \"cuda\":\n",
    "        fabric.print(f\"Memory used: {torch.cuda.max_memory_allocated() / 1e9:.02f} GB\", file=sys.stderr)\n"
   ]
  },
  {
   "cell_type": "code",
   "execution_count": null,
   "id": "39ff8603",
   "metadata": {},
   "outputs": [],
   "source": []
  },
  {
   "cell_type": "markdown",
   "id": "96bf1de8",
   "metadata": {},
   "source": [
    "# Excursion: How does quantization work\n",
    "\n",
    "To take a detailed look at how quantization works, let's see how the quantization works. First we quantize to 4 bit using `quantize_4bit`. It returns a quantized tensor and a status object."
   ]
  },
  {
   "cell_type": "code",
   "execution_count": 4,
   "id": "89d7e3fd",
   "metadata": {},
   "outputs": [],
   "source": [
    "w = torch.randn(200, 100, device=\"cuda\")\n",
    "qt, st = bitsandbytes.functional.quantize_4bit(w, quant_type='nf4')"
   ]
  },
  {
   "cell_type": "markdown",
   "id": "3d805a41",
   "metadata": {},
   "source": [
    "Then we can use `matmul_4bit` to multiply a (floating-point) activation with the quantized amtrix."
   ]
  },
  {
   "cell_type": "code",
   "execution_count": 5,
   "id": "0ceeff98",
   "metadata": {},
   "outputs": [],
   "source": [
    "x = torch.randn(300, 100, device=\"cuda\")\n",
    "out = bitsandbytes.matmul_4bit(x, qt.t(), bias=None, quant_state=st)\n"
   ]
  },
  {
   "cell_type": "markdown",
   "id": "7d6003d2",
   "metadata": {},
   "source": [
    "We can compare the quantized matmul to the original floating point one. There is quite a difference (due to 4 bits not being very precise)..."
   ]
  },
  {
   "cell_type": "code",
   "execution_count": 6,
   "id": "11f71b75",
   "metadata": {},
   "outputs": [
    {
     "data": {
      "text/plain": [
       "tensor(0.7309, device='cuda:0')"
      ]
     },
     "execution_count": 6,
     "metadata": {},
     "output_type": "execute_result"
    }
   ],
   "source": [
    "(out - x @ w.t()).abs().mean()"
   ]
  },
  {
   "cell_type": "markdown",
   "id": "bd536bc4",
   "metadata": {},
   "source": [
    "...but when comparing to the magnitude of the result, we see that everything is good."
   ]
  },
  {
   "cell_type": "code",
   "execution_count": 7,
   "id": "6e850cb5",
   "metadata": {},
   "outputs": [
    {
     "data": {
      "text/plain": [
       "tensor(7.9811, device='cuda:0')"
      ]
     },
     "execution_count": 7,
     "metadata": {},
     "output_type": "execute_result"
    }
   ],
   "source": [
    "out.abs().mean()"
   ]
  },
  {
   "cell_type": "markdown",
   "id": "66bcea01",
   "metadata": {},
   "source": [
    "But so how does it work?\n",
    "\n",
    "Let's re-do the `matmul_4bit` manually in PyTorch.\n",
    "\n",
    "The quantized tensor is a `uint8` tensor, each byte in the tensor encodes two 4-bit-entries in the original matrix. The tensor has been flattened."
   ]
  },
  {
   "cell_type": "code",
   "execution_count": 8,
   "id": "aa9ac17e",
   "metadata": {},
   "outputs": [
    {
     "data": {
      "text/plain": [
       "tensor([[ 90],\n",
       "        [ 37],\n",
       "        [102],\n",
       "        ...,\n",
       "        [107],\n",
       "        [136],\n",
       "        [180]], device='cuda:0', dtype=torch.uint8)"
      ]
     },
     "execution_count": 8,
     "metadata": {},
     "output_type": "execute_result"
    }
   ],
   "source": [
    "qt"
   ]
  },
  {
   "cell_type": "markdown",
   "id": "ffdc5b93",
   "metadata": {},
   "source": [
    "The quantization state that has been returned by `quantize_4bit` contains the information to dequantize:"
   ]
  },
  {
   "cell_type": "code",
   "execution_count": 9,
   "id": "bca60c70",
   "metadata": {},
   "outputs": [
    {
     "data": {
      "text/plain": [
       "<bitsandbytes.functional.QuantState at 0x7f8032a06810>"
      ]
     },
     "execution_count": 9,
     "metadata": {},
     "output_type": "execute_result"
    }
   ],
   "source": [
    "st"
   ]
  },
  {
   "cell_type": "markdown",
   "id": "7b8fa90d",
   "metadata": {},
   "source": [
    "Key properties of the quantization state are\n",
    "\n",
    "- `.blocksize` defines the blocksize, values within a block share the same scale from `.absmax`.\n",
    "- `.code` is a \"dictionary\" to index into with the 4 bit value `0` ... `15`. The code seems to be normalized to the range -1 ... 1 and is not equidistributed.\n",
    "- `.absmax` contains scales for all blocks (of size `.blocksize`),\n",
    "- `.dtype` is the original dtype,\n",
    "- `.shape` is the original shape.\n",
    "\n",
    "We can look at the `.code` dictionary:"
   ]
  },
  {
   "cell_type": "code",
   "execution_count": 10,
   "id": "8395f856",
   "metadata": {},
   "outputs": [
    {
     "name": "stdout",
     "output_type": "stream",
     "text": [
      "tensor([-1.0000, -0.6962, -0.5251, -0.3949, -0.2844, -0.1848, -0.0911,  0.0000,\n",
      "         0.0796,  0.1609,  0.2461,  0.3379,  0.4407,  0.5626,  0.7230,  1.0000],\n",
      "       device='cuda:0')\n"
     ]
    },
    {
     "data": {
      "text/plain": [
       "[<matplotlib.lines.Line2D at 0x7f802fe03990>]"
      ]
     },
     "execution_count": 10,
     "metadata": {},
     "output_type": "execute_result"
    },
    {
     "data": {
      "image/png": "[encoded data removed]",
      "text/plain": [
       "<Figure size 640x480 with 1 Axes>"
      ]
     },
     "metadata": {},
     "output_type": "display_data"
    }
   ],
   "source": [
    "print(st.code)\n",
    "from matplotlib import pyplot\n",
    "pyplot.plot(st.code.cpu())"
   ]
  },
  {
   "cell_type": "markdown",
   "id": "6c84cbc1",
   "metadata": {},
   "source": [
    "And we can decode the tensor:"
   ]
  },
  {
   "cell_type": "code",
   "execution_count": 11,
   "id": "c9094ae1",
   "metadata": {},
   "outputs": [],
   "source": [
    "w_dequant = torch.stack((st.code[(qt.squeeze().int() >> 4) & 0xf], st.code[qt.squeeze().int() & 0xf]), -1).view(-1)\n",
    "for i, m in zip(range(0, w_dequant.size(0), st.blocksize), st.absmax):\n",
    "    w_dequant[i: i + st.blocksize] *= m\n",
    "    \n",
    "w_dequant = w_dequant.view(st.shape)"
   ]
  },
  {
   "cell_type": "markdown",
   "id": "62ef9121",
   "metadata": {},
   "source": [
    "We can see whether the output computed by `matmul_4bit` with a matrix multiplication with our manually dequantized matrix:"
   ]
  },
  {
   "cell_type": "code",
   "execution_count": 12,
   "id": "7775b7fe",
   "metadata": {},
   "outputs": [
    {
     "data": {
      "text/plain": [
       "tensor([[0., 0., 0.,  ..., 0., 0., 0.],\n",
       "        [0., 0., 0.,  ..., 0., 0., 0.],\n",
       "        [0., 0., 0.,  ..., 0., 0., 0.],\n",
       "        ...,\n",
       "        [0., 0., 0.,  ..., 0., 0., 0.],\n",
       "        [0., 0., 0.,  ..., 0., 0., 0.],\n",
       "        [0., 0., 0.,  ..., 0., 0., 0.]], device='cuda:0')"
      ]
     },
     "execution_count": 12,
     "metadata": {},
     "output_type": "execute_result"
    }
   ],
   "source": [
    "out - x @ w_dequant.t()"
   ]
  },
  {
   "cell_type": "markdown",
   "id": "33b07569",
   "metadata": {},
   "source": [
    "## 4 bit matmul in Thunder\n",
    "\n",
    "But now, let's get the 4 bit matmul into Thunder.\n",
    "Happily, Thunder is easily extensible, so we can just define a nf8 meta and implementation, instantiate an `OperatorExecutor` and register our new symbol."
   ]
  },
  {
   "cell_type": "code",
   "execution_count": 13,
   "id": "88ba472e",
   "metadata": {},
   "outputs": [],
   "source": [
    "from typing import Sequence"
   ]
  },
  {
   "cell_type": "code",
   "execution_count": 14,
   "id": "f3436d63",
   "metadata": {},
   "outputs": [],
   "source": [
    "import thunder\n",
    "ex = thunder.extend.OperatorExecutor('quant_bnb', version=0.1)"
   ]
  },
  {
   "cell_type": "code",
   "execution_count": 15,
   "id": "5fb4e464",
   "metadata": {},
   "outputs": [],
   "source": [
    "def bnb_matmul_nf4_meta(x, qweight, bias, absmax, quant_map, blocksize, dtype, shape):\n",
    "    assert isinstance(shape, Sequence) and len(shape) == 2\n",
    "    assert x.shape[-1] == shape[1], f\"{x.shape=}, rhs {shape=}\"\n",
    "    return thunder.TensorProxy(like=x, shape=(*x.shape[:-1], shape[0]))\n",
    "\n",
    "def bnb_matmul_nf4_impl(x, qweight, bias, absmax, quant_map, blocksize, dtype, shape):\n",
    "    qs = bitsandbytes.functional.QuantState(absmax, shape=shape, blocksize=blocksize, code=quant_map,\n",
    "                                            quant_type='nf4', dtype=dtype)\n",
    "    \n",
    "    return bitsandbytes.matmul_4bit(x, qweight.t(), bias=bias, quant_state=qs)"
   ]
  },
  {
   "cell_type": "code",
   "execution_count": 16,
   "id": "8d402a93",
   "metadata": {},
   "outputs": [],
   "source": [
    "bnb_matmul_nf4 = ex.register_operator('bnb_matmul_nf4', meta=bnb_matmul_nf4_meta, fn=bnb_matmul_nf4_impl)"
   ]
  },
  {
   "cell_type": "code",
   "execution_count": 17,
   "id": "12314f6d",
   "metadata": {},
   "outputs": [
    {
     "data": {
      "text/plain": [
       "[Symbol name=bnb_matmul_nf4]"
      ]
     },
     "execution_count": 17,
     "metadata": {},
     "output_type": "execute_result"
    }
   ],
   "source": [
    "bnb_matmul_nf4"
   ]
  },
  {
   "cell_type": "markdown",
   "id": "716068b7",
   "metadata": {},
   "source": [
    "Let's try this on a function:"
   ]
  },
  {
   "cell_type": "code",
   "execution_count": 18,
   "id": "a5802a05",
   "metadata": {},
   "outputs": [],
   "source": [
    "def fn(x, qweight, qs):\n",
    "    return bnb_matmul_nf4(x, qweight, None, qs.absmax, qs.code, qs.blocksize, qs.dtype, qs.shape)"
   ]
  },
  {
   "cell_type": "code",
   "execution_count": 19,
   "id": "5634b73e",
   "metadata": {},
   "outputs": [],
   "source": [
    "jfn = thunder.jit(fn)"
   ]
  },
  {
   "cell_type": "code",
   "execution_count": 20,
   "id": "20bf3316",
   "metadata": {},
   "outputs": [
    {
     "data": {
      "text/plain": [
       "tensor([[ -5.6017,  -6.9423,  14.8765,  ...,   6.7327,  -0.9416, -13.1131],\n",
       "        [ 11.6984,  -1.3968,  -1.5242,  ...,   5.7076,  -5.6656,  -7.5721],\n",
       "        [ -7.2364,   0.3612,   4.7494,  ...,  13.5308,  12.4456,  16.8248],\n",
       "        ...,\n",
       "        [ 19.8676,  13.6140, -17.0503,  ...,  -6.3070,   4.9783,  -0.5094],\n",
       "        [-17.1213,  -5.3133, -22.2789,  ...,   2.8354,   2.1703,  -8.1751],\n",
       "        [  8.0881,   8.1432,  -5.1421,  ...,  -7.8354,   3.0699,  -8.4743]],\n",
       "       device='cuda:0')"
      ]
     },
     "execution_count": 20,
     "metadata": {},
     "output_type": "execute_result"
    }
   ],
   "source": [
    "jfn(x, qt, st)"
   ]
  },
  {
   "cell_type": "code",
   "execution_count": 21,
   "id": "60fd8287",
   "metadata": {},
   "outputs": [
    {
     "data": {
      "text/plain": [
       "import torch\n",
       "from thunder.executors.torchex import no_autocast\n",
       "\n",
       "@torch.no_grad()\n",
       "@no_autocast\n",
       "def computation(x, qweight, t_2_absmax, t_2_code):\n",
       "  # x: \"cuda:0 f32[300, 100]\"\n",
       "  # qweight: \"cuda:0 ui8[10000, 1]\"\n",
       "  # t_2_absmax: \"cuda:0 f32[313]\"\n",
       "  # t_2_code: \"cuda:0 f32[16]\"\n",
       "\n",
       "  # /tmp/ipykernel_1517946/3597101269.py:2: \t    return bnb_matmul_nf4(x, qweight, None, qs.absmax, qs.code, qs.blocksize, qs.dtype, qs.shape)\n",
       "  t3 = bnb_matmul_nf4(x, qweight, None, t_2_absmax, t_2_code, 64, torch.float32, (200, 100))  # t3: \"cuda:0 f32[300, 200]\"\n",
       "  return t3"
      ]
     },
     "execution_count": 21,
     "metadata": {},
     "output_type": "execute_result"
    }
   ],
   "source": [
    "thunder.last_traces(jfn)[0]"
   ]
  },
  {
   "cell_type": "markdown",
   "id": "0b0ff6e7",
   "metadata": {},
   "source": [
    "## Quantizing a model"
   ]
  },
  {
   "cell_type": "code",
   "execution_count": 22,
   "id": "c8a5261e",
   "metadata": {},
   "outputs": [],
   "source": [
    "import torch, thunder, bitsandbytes"
   ]
  },
  {
   "cell_type": "code",
   "execution_count": 23,
   "id": "69dc0e5d",
   "metadata": {},
   "outputs": [],
   "source": [
    "#qt, st = bitsandbytes.functional.quantize_4bit(tm, , quant_type='nf4')"
   ]
  },
  {
   "cell_type": "code",
   "execution_count": 24,
   "id": "cbb9900f",
   "metadata": {},
   "outputs": [
    {
     "data": {
      "text/plain": [
       "(import thunder\n",
       " import thunder.core.prims as prims\n",
       " import torch\n",
       " from thunder.executors.torchex import no_autocast\n",
       " \n",
       " @torch.no_grad()\n",
       " @no_autocast\n",
       " def prologue(*args, **kwargs):\n",
       "   # args: \"Any\"\n",
       "   prims.check_len(args, 1)\n",
       "   # kwargs: \"Any\"\n",
       "   prims.check_len(kwargs, 0)\n",
       "   input: \"cuda:0 f32[4, 128]\" = args[0]\n",
       "   p0: \"Any\" = globals()['__function_obj']\n",
       "   module: \"Any\" = thunder.core.module.get_thunder_module(p0)\n",
       "   t_0_weight: \"cuda:0 f32[256, 128]\" = module.get_parameter('0.weight')\n",
       "   t_2_weight: \"cuda:0 f32[128, 256]\" = module.get_parameter('2.weight')\n",
       "   prims.check_tensor_metadata(input, (4, 128), 'cuda:0', torch.float32, False)\n",
       "   m: \"Any\" = module.get_submodule('0')\n",
       "   b0: \"bool True\" = m.training\n",
       "   prims.check_number_type_and_value(b0, True)\n",
       "   i1: \"int 128\" = m.in_features\n",
       "   prims.check_number_type_and_value(i1, 128)\n",
       "   i2: \"int 256\" = m.out_features\n",
       "   prims.check_number_type_and_value(i2, 256)\n",
       "   prims.check_tensor_metadata(t_0_weight, (256, 128), 'cuda:0', torch.float32, True)\n",
       "   p1: \"Any\" = module.get_submodule('1')\n",
       "   s4: \"str\" = p1.approximate\n",
       "   prims.check_string_value(s4, 'none')\n",
       "   p2: \"Any\" = module.get_submodule('2')\n",
       "   b10: \"bool True\" = p2.training\n",
       "   prims.check_number_type_and_value(b10, True)\n",
       "   i11: \"int 256\" = p2.in_features\n",
       "   prims.check_number_type_and_value(i11, 256)\n",
       "   i12: \"int 128\" = p2.out_features\n",
       "   prims.check_number_type_and_value(i12, 128)\n",
       "   prims.check_tensor_metadata(t_2_weight, (128, 256), 'cuda:0', torch.float32, True)\n",
       "   cache_info: \"Any\" = thunder._get_cache_info()\n",
       "   cache_info_is_autocast_enabled: \"bool False\" = cache_info['is_autocast_enabled']\n",
       "   prims.check_number_type_and_value(cache_info_is_autocast_enabled, False)\n",
       "   cache_info_no_grad_sync: \"bool False\" = cache_info['no_grad_sync']\n",
       "   prims.check_number_type_and_value(cache_info_no_grad_sync, False)\n",
       "   return (input, t_0_weight, t_2_weight),\n",
       " import thunder\n",
       " import thunder.torch as ltorch\n",
       " import torch\n",
       " from thunder.executors.torchex import no_autocast\n",
       " \n",
       " @torch.no_grad()\n",
       " @no_autocast\n",
       " def computation(input, t_0_weight, t_2_weight):\n",
       "   # input: \"cuda:0 f32[4, 128]\"\n",
       "   # t_0_weight: \"cuda:0 f32[256, 128]\"\n",
       "   # t_2_weight: \"cuda:0 f32[128, 256]\"\n",
       " \n",
       "   # /usr/local/lib/python3.11/dist-packages/torch/nn/modules/linear.py:116: \t        return F.linear(input, self.weight, self.bias)\n",
       "   t3 = ltorch.linear(input, t_0_weight, None)  # t3: \"cuda:0 f32[4, 256]\"\n",
       "     # t3 = prims.linear(input, t_0_weight, None)  # t3: \"cuda:0 f32[4, 256]\"\n",
       " \n",
       "   # /usr/local/lib/python3.11/dist-packages/torch/nn/modules/activation.py:696: \t        return F.gelu(input, approximate=self.approximate)\n",
       "   t9 = ltorch.gelu(t3, approximate='none')  # t9: \"cuda:0 f32[4, 256]\"\n",
       "     # t5 = ltorch.true_divide(t3, 1.4142135623730951)  # t5: \"cuda:0 f32[4, 256]\"\n",
       "       # t5 = prims.div(t3, 1.4142135623730951)  # t5: \"cuda:0 f32[4, 256]\"\n",
       "     # t6 = ltorch.erf(t5)  # t6: \"cuda:0 f32[4, 256]\"\n",
       "       # t6 = prims.erf(t5)  # t6: \"cuda:0 f32[4, 256]\"\n",
       "     # t7 = ltorch.mul(0.5, t6)  # t7: \"cuda:0 f32[4, 256]\"\n",
       "       # t7 = prims.mul(0.5, t6)  # t7: \"cuda:0 f32[4, 256]\"\n",
       "     # t8 = ltorch.add(0.5, t7, alpha=None)  # t8: \"cuda:0 f32[4, 256]\"\n",
       "       # t8 = prims.add(0.5, t7)  # t8: \"cuda:0 f32[4, 256]\"\n",
       "     # t9 = ltorch.mul(t3, t8)  # t9: \"cuda:0 f32[4, 256]\"\n",
       "       # t9 = prims.mul(t3, t8)  # t9: \"cuda:0 f32[4, 256]\"\n",
       " \n",
       "   # /usr/local/lib/python3.11/dist-packages/torch/nn/modules/linear.py:116: \t        return F.linear(input, self.weight, self.bias)\n",
       "   t13 = ltorch.linear(t9, t_2_weight, None)  # t13: \"cuda:0 f32[4, 128]\"\n",
       "     # t13 = prims.linear(t9, t_2_weight, None)  # t13: \"cuda:0 f32[4, 128]\"\n",
       "   return t13)"
      ]
     },
     "execution_count": 24,
     "metadata": {},
     "output_type": "execute_result"
    }
   ],
   "source": [
    "m = torch.nn.Sequential(\n",
    "    torch.nn.Linear(128, 256, bias=False),\n",
    "    torch.nn.GELU(),\n",
    "    torch.nn.Linear(256, 128, bias=False)\n",
    ").cuda()\n",
    "tm = thunder.jit(m)\n",
    "a = torch.randn(4, 128, device='cuda')\n",
    "tm(a);\n",
    "computation_trace = thunder.last_traces(tm)[0]\n",
    "prologue_trace = thunder.last_prologue_traces(tm)[0]\n",
    "prologue_trace, computation_trace"
   ]
  },
  {
   "cell_type": "code",
   "execution_count": 25,
   "id": "816b517a",
   "metadata": {},
   "outputs": [],
   "source": [
    "from thunder.core.transform_common import EarlyTransform\n",
    "\n",
    "class LinearQuant4bit(EarlyTransform):\n",
    "    def __init__(self):\n",
    "        self.quant_states = {}\n",
    "\n",
    "    def transform_module(self, model: thunder.ThunderModule):\n",
    "        def convert_linear_submodule(tm, name):    \n",
    "            weight_name = f\"{name}.weight\"\n",
    "            w = tm.get_parameter(weight_name)\n",
    "            # device!\n",
    "            qw, qs = bitsandbytes.functional.quantize_4bit(w.to('cuda'), quant_type='nf4')\n",
    "            tm._overrides_parameters[weight_name] = qw\n",
    "            tm._overrides_parameters[f\"{weight_name}.absmax\"] = qs.absmax\n",
    "            tm._overrides_parameters[f\"{weight_name}.code\"] = qs.code\n",
    "            self.quant_states[weight_name] = {'dtype': qs.dtype, 'shape': qs.shape, 'blocksize': qs.blocksize}\n",
    "\n",
    "        for n, submodule in model._model.named_modules():\n",
    "            if isinstance(submodule, torch.nn.Linear):\n",
    "                convert_linear_submodule(model, n)\n",
    "\n",
    "    def transform_traces(self, prologue_trace, computation_trace, epilogue_trace, **kwargs):\n",
    "        from thunder.core.trace import tracectx\n",
    "        def get_orig_and_thunder_module_proxies_from_prologue(prologue_trace): \n",
    "            modules_and_thunder_modules = [\n",
    "                (bsym.args[0], bsym.output)\n",
    "                for bsym in prologue_trace.bound_symbols\n",
    "                if bsym.sym is prims.unpack_thunder_module\n",
    "            ]\n",
    "\n",
    "            if len(modules_and_thunder_modules) != 1:\n",
    "                raise NotImplementedError(\"cannot deal with modules other than the compiled module\")\n",
    "\n",
    "            ((orig_module_proxy, thunder_module_proxy),) = modules_and_thunder_modules\n",
    "            if prologue_producers[orig_module_proxy].sym is not prims.unpack_function_obj:\n",
    "                raise NotImplementedError(\"original module does not match the compiled module\")\n",
    "\n",
    "            return orig_module_proxy, thunder_module_proxy\n",
    "\n",
    "        from thunder.core import utils\n",
    "        from thunder.core import prims\n",
    "\n",
    "        def get_checks(prologue_trace):\n",
    "            check_dict = {}\n",
    "            prologue_producers, prologue_consumers = utils.producers_and_consumers(prologue_trace)\n",
    "            for bsym in prologue_trace.bound_symbols:\n",
    "                if bsym.sym == prims.unpack_parameter or bsym.sym == prims.unpack_buffer:\n",
    "                    param_thunder_module, param_name = bsym.args\n",
    "                    checks = [bsym2 for bsym2 in prologue_consumers[bsym.output] if bsym2.sym == prims.check_tensor_shape_and_metadata]\n",
    "                    assert len(checks) == 1, f\"expected each parameter and buffer to have exactly one checker, but {bsym.output} has {len(checks)}\"\n",
    "                    assert isinstance(param_name, str)\n",
    "                    check_dict[param_name] = (checks[0], bsym)\n",
    "            return check_dict\n",
    "\n",
    "        def add_trace_output(trace, output):\n",
    "            ret_node = trace.bound_symbols[-1]\n",
    "            assert ret_node.sym == prims.python_return\n",
    "            assert len(ret_node.args) == 1\n",
    "            ret_node.args = ((*ret_node.args[0], output),)\n",
    "\n",
    "\n",
    "        checks = get_checks(prologue_trace)\n",
    "\n",
    "        compute_producers, compute_consumers = utils.producers_and_consumers(computation_trace)\n",
    "\n",
    "        output_idxes = {id(o): i for i, o in enumerate(prologue_trace.output)}\n",
    "\n",
    "        computation_trace.push_scope([])\n",
    "        quantized_proxies : dict[int, str]= {}  # id -> name\n",
    "\n",
    "        new_bsyms = []\n",
    "        new_compute_inputs = []\n",
    "        for n, qs in self.quant_states.items():\n",
    "            param = tm.get_parameter(n)\n",
    "            n_absmax = f\"{n}.absmax\"\n",
    "            n_code = f\"{n}.code\"\n",
    "            param_absmax = tm.get_parameter(n_absmax)\n",
    "            param_code = tm.get_parameter(n_code)\n",
    "            check, get_param = checks[n]\n",
    "            quantized_proxies[id(get_param.output)] = n\n",
    "            # check has args: tensor, shape, device, dtype, requires_grad\n",
    "            proxy, _, _, _, requires_grad = check.args\n",
    "            thunder_device = thunder.devices.to_device(param.device)\n",
    "            thunder_device_str = str(thunder_device)\n",
    "            check.args = (proxy, (*param.shape,), thunder_device_str, param.dtype, False) \n",
    "\n",
    "            output_idx = output_idxes.get(id(get_param.output))\n",
    "            if output_idx is not None:\n",
    "                with tracectx(prologue_trace):\n",
    "                    # better way\n",
    "                    proxy_absmax = thunder.TensorProxy(name=f\"{get_param.output.name}_absmax\",\n",
    "                                                 shape=param_absmax.shape, dtype=thunder.dtypes.to_dtype(param_absmax.dtype),\n",
    "                                                 device=thunder.devices.to_device(param_absmax.device), requires_grad=False)\n",
    "                    proxy_code = thunder.TensorProxy(name=f\"{get_param.output.name}_code\",\n",
    "                                                 shape=param_code.shape, dtype=thunder.dtypes.to_dtype(param_code.dtype),\n",
    "                                                 device=thunder.devices.to_device(param_code.device), requires_grad=False)\n",
    "                    # get_param.sym = unpack_buffer/parameter as needed\n",
    "                    new_bsyms.append(get_param.sym.bind(get_param.args[0], n_absmax, output=proxy_absmax))\n",
    "                    new_bsyms.append(get_param.sym.bind(get_param.args[0], n_code, output=proxy_code))\n",
    "                    add_trace_output(prologue_trace, proxy_absmax)\n",
    "                    add_trace_output(prologue_trace, proxy_code)\n",
    "                    new_compute_inputs.append(proxy_absmax)\n",
    "                    new_compute_inputs.append(proxy_code)\n",
    "                    qs['proxy_absmax'] = proxy_absmax\n",
    "                    qs['proxy_code'] = proxy_code\n",
    "                compute_input = computation_trace.args[output_idx]\n",
    "\n",
    "        prologue_trace.bound_symbols[-1:-1] = new_bsyms\n",
    "\n",
    "\n",
    "        with tracectx(computation_trace):\n",
    "            new_bindings = [thunder.core.prims.unpack_trivial.bind(i, output=i) for i in new_compute_inputs]\n",
    "\n",
    "        new_computation_trace = thunder.core.trace.from_trace(computation_trace)\n",
    "        new_computation_trace.args = (*new_computation_trace.args, *new_compute_inputs)\n",
    "        new_computation_trace._siginfo.args = [(a.name, None) for a in new_computation_trace.args]\n",
    "        for idx, bsym in enumerate(computation_trace.bound_symbols):\n",
    "            if bsym.sym != prims.unpack_trivial:\n",
    "                break\n",
    "            new_computation_trace.bound_symbols.append(bsym.from_bsym())\n",
    "        new_computation_trace.bound_symbols += new_bindings\n",
    "        proxies_to_replace = {}\n",
    "        for bsym in computation_trace.bound_symbols[idx:]:\n",
    "            if bsym.sym == thunder.torch.linear and id(bsym.args[1]) in quantized_proxies:\n",
    "                assert len(bsym.args) == 3 # torch.linear(input, weight, bias) \n",
    "                n = quantized_proxies[id(bsym.args[1])]\n",
    "                qs = self.quant_states[n]\n",
    "                # bnb_matmul_nf4(x, qweight, bias, absmax, quant_map, blocksize, dtype, shape)\n",
    "                #  how to replace the _call_ctx(???)\n",
    "                new_args = (*bsym.args[:3], qs['proxy_absmax'], qs['proxy_code'], qs['blocksize'], qs['dtype'], qs['shape'])\n",
    "                new_computation_trace.bound_symbols.append(bsym.from_bsym(sym=bnb_matmul_nf4,\n",
    "                                                                          _call_ctx={'bnb_matmul_nf4': bnb_matmul_nf4_impl}, \n",
    "                                                                          subsymbols=[], args=new_args))\n",
    "            else:\n",
    "                new_computation_trace.bound_symbols.append(bsym.from_bsym())\n",
    "\n",
    "        new_computation_trace.set_provenance(thunder.core.trace.TraceProvenance(\"quant pass\"))\n",
    "        return prologue_trace, new_computation_trace, epilogue_trace\n"
   ]
  },
  {
   "cell_type": "code",
   "execution_count": 26,
   "id": "7bb75d09",
   "metadata": {},
   "outputs": [],
   "source": [
    "a = torch.randn(4, 128, device='cuda')\n",
    "\n",
    "expected = m(a)\n",
    "\n",
    "tm = thunder.jit(m, executors=(ex, *thunder.get_default_executors()))\n",
    "\n",
    "transform = LinearQuant4bit()\n",
    "transform.transform_module(tm)\n",
    "tm2 = thunder.core.transforms.add_transform(tm, early_transform=transform)\n",
    "\n",
    "actual = tm2(a)"
   ]
  },
  {
   "cell_type": "code",
   "execution_count": 27,
   "id": "83922be8",
   "metadata": {},
   "outputs": [
    {
     "data": {
      "text/plain": [
       "# Constructed by quant pass\n",
       "import thunder\n",
       "import thunder.torch as ltorch\n",
       "import torch\n",
       "from thunder.executors.torchex import no_autocast\n",
       "\n",
       "@torch.no_grad()\n",
       "@no_autocast\n",
       "def computation(input, t_0_weight, t_2_weight, t_0_weight_absmax, t_0_weight_code, t_2_weight_absmax, t_2_weight_code):\n",
       "  # input: \"cuda:0 f32[4, 128]\"\n",
       "  # t_0_weight: \"cuda:0 f32[256, 128]\"\n",
       "  # t_2_weight: \"cuda:0 f32[128, 256]\"\n",
       "  # t_0_weight_absmax: \"cuda:0 f32[512]\"\n",
       "  # t_0_weight_code: \"cuda:0 f32[16]\"\n",
       "  # t_2_weight_absmax: \"cuda:0 f32[512]\"\n",
       "  # t_2_weight_code: \"cuda:0 f32[16]\"\n",
       "\n",
       "  # /usr/local/lib/python3.11/dist-packages/torch/nn/modules/linear.py:116: \t        return F.linear(input, self.weight, self.bias)\n",
       "  t3 = bnb_matmul_nf4(input, t_0_weight, None, t_0_weight_absmax, t_0_weight_code, 64, torch.float32, (256, 128))  # t3: \"cuda:0 f32[4, 256]\"\n",
       "\n",
       "  # /usr/local/lib/python3.11/dist-packages/torch/nn/modules/activation.py:696: \t        return F.gelu(input, approximate=self.approximate)\n",
       "  t9 = ltorch.gelu(t3, approximate='none')  # t9: \"cuda:0 f32[4, 256]\"\n",
       "    # t5 = ltorch.true_divide(t3, 1.4142135623730951)  # t5: \"cuda:0 f32[4, 256]\"\n",
       "      # t5 = prims.div(t3, 1.4142135623730951)  # t5: \"cuda:0 f32[4, 256]\"\n",
       "    # t6 = ltorch.erf(t5)  # t6: \"cuda:0 f32[4, 256]\"\n",
       "      # t6 = prims.erf(t5)  # t6: \"cuda:0 f32[4, 256]\"\n",
       "    # t7 = ltorch.mul(0.5, t6)  # t7: \"cuda:0 f32[4, 256]\"\n",
       "      # t7 = prims.mul(0.5, t6)  # t7: \"cuda:0 f32[4, 256]\"\n",
       "    # t8 = ltorch.add(0.5, t7, alpha=None)  # t8: \"cuda:0 f32[4, 256]\"\n",
       "      # t8 = prims.add(0.5, t7)  # t8: \"cuda:0 f32[4, 256]\"\n",
       "    # t9 = ltorch.mul(t3, t8)  # t9: \"cuda:0 f32[4, 256]\"\n",
       "      # t9 = prims.mul(t3, t8)  # t9: \"cuda:0 f32[4, 256]\"\n",
       "\n",
       "  # /usr/local/lib/python3.11/dist-packages/torch/nn/modules/linear.py:116: \t        return F.linear(input, self.weight, self.bias)\n",
       "  t13 = bnb_matmul_nf4(t9, t_2_weight, None, t_2_weight_absmax, t_2_weight_code, 64, torch.float32, (128, 256))  # t13: \"cuda:0 f32[4, 128]\"\n",
       "  return t13"
      ]
     },
     "execution_count": 27,
     "metadata": {},
     "output_type": "execute_result"
    }
   ],
   "source": [
    "thunder.last_traces(tm2)[1]"
   ]
  },
  {
   "cell_type": "code",
   "execution_count": null,
   "id": "d3f464fd",
   "metadata": {},
   "outputs": [],
   "source": []
  },
  {
   "cell_type": "code",
   "execution_count": null,
   "id": "f21de3bb",
   "metadata": {},
   "outputs": [],
   "source": []
  }
 ],
 "metadata": {
  "kernelspec": {
   "display_name": "Python 3 (ipykernel)",
   "language": "python",
   "name": "python3"
  },
  "language_info": {
   "codemirror_mode": {
    "name": "ipython",
    "version": 3
   },
   "file_extension": ".py",
   "mimetype": "text/x-python",
   "name": "python",
   "nbconvert_exporter": "python",
   "pygments_lexer": "ipython3",
   "version": "3.11.7"
  }
 },
 "nbformat": 4,
 "nbformat_minor": 5
}
